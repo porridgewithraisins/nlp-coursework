{
 "cells": [
  {
   "attachments": {},
   "cell_type": "markdown",
   "metadata": {},
   "source": [
    "### Explore the corpora available in NLTK (any two)\n",
    "\n",
    "I explored POS tagged corpora and parsed corpora"
   ]
  },
  {
   "cell_type": "code",
   "execution_count": 1,
   "metadata": {},
   "outputs": [],
   "source": [
    "import nltk"
   ]
  },
  {
   "cell_type": "code",
   "execution_count": 3,
   "metadata": {},
   "outputs": [],
   "source": [
    "def download(*args):\n",
    "    for arg in args:\n",
    "        nltk.download(arg, download_dir='.')\n",
    "    nltk.data.path.append('.')"
   ]
  },
  {
   "attachments": {},
   "cell_type": "markdown",
   "metadata": {},
   "source": [
    " - POS Tagged Corpora"
   ]
  },
  {
   "cell_type": "code",
   "execution_count": 7,
   "metadata": {},
   "outputs": [
    {
     "name": "stderr",
     "output_type": "stream",
     "text": [
      "[nltk_data] Downloading package brown to ....\n",
      "[nltk_data]   Package brown is already up-to-date!\n",
      "[nltk_data] Downloading package indian to ....\n",
      "[nltk_data]   Unzipping corpora/indian.zip.\n"
     ]
    }
   ],
   "source": [
    "download('brown', 'indian')"
   ]
  },
  {
   "cell_type": "code",
   "execution_count": 8,
   "metadata": {},
   "outputs": [
    {
     "data": {
      "text/plain": [
       "[('The', 'AT'), ('Fulton', 'NP-TL'), ...]"
      ]
     },
     "execution_count": 8,
     "metadata": {},
     "output_type": "execute_result"
    }
   ],
   "source": [
    "nltk.corpus.brown.tagged_words()"
   ]
  },
  {
   "cell_type": "code",
   "execution_count": 9,
   "metadata": {},
   "outputs": [
    {
     "data": {
      "text/plain": [
       "[('মহিষের', 'NN'), ('সন্তান', 'NN'), (':', 'SYM'), ...]"
      ]
     },
     "execution_count": 9,
     "metadata": {},
     "output_type": "execute_result"
    }
   ],
   "source": [
    "nltk.corpus.indian.tagged_words()"
   ]
  },
  {
   "attachments": {},
   "cell_type": "markdown",
   "metadata": {},
   "source": [
    " - Parsed Corpora"
   ]
  },
  {
   "cell_type": "code",
   "execution_count": 11,
   "metadata": {},
   "outputs": [
    {
     "name": "stderr",
     "output_type": "stream",
     "text": [
      "[nltk_data] Downloading package treebank to ....\n",
      "[nltk_data]   Package treebank is already up-to-date!\n",
      "[nltk_data] Downloading package sinica_treebank to ....\n",
      "[nltk_data]   Package sinica_treebank is already up-to-date!\n",
      "[nltk_data] Downloading package conll2007 to ....\n"
     ]
    }
   ],
   "source": [
    "download('treebank', 'sinica_treebank', 'conll2007')"
   ]
  },
  {
   "cell_type": "code",
   "execution_count": 24,
   "metadata": {},
   "outputs": [
    {
     "data": {
      "image/svg+xml": "<svg baseProfile=\"full\" height=\"312px\" preserveAspectRatio=\"xMidYMid meet\" style=\"font-family: times, serif; font-weight:normal; font-style: normal; font-size: 16px;\" version=\"1.1\" viewBox=\"0,0,856.0,312.0\" width=\"856px\" xmlns=\"http://www.w3.org/2000/svg\" xmlns:ev=\"http://www.w3.org/2001/xml-events\" xmlns:xlink=\"http://www.w3.org/1999/xlink\"><defs /><svg width=\"100%\" x=\"0\" y=\"0em\"><defs /><text text-anchor=\"middle\" x=\"50%\" y=\"1em\">S</text></svg><svg width=\"35.514%\" x=\"0%\" y=\"3em\"><defs /><svg width=\"100%\" x=\"0\" y=\"0em\"><defs /><text text-anchor=\"middle\" x=\"50%\" y=\"1em\">NP-SBJ</text></svg><svg width=\"42.1053%\" x=\"0%\" y=\"3em\"><defs /><svg width=\"100%\" x=\"0\" y=\"0em\"><defs /><text text-anchor=\"middle\" x=\"50%\" y=\"1em\">NP</text></svg><svg width=\"50%\" x=\"0%\" y=\"3em\"><defs /><svg width=\"100%\" x=\"0\" y=\"0em\"><defs /><text text-anchor=\"middle\" x=\"50%\" y=\"1em\">NNP</text></svg><svg width=\"100%\" x=\"0%\" y=\"3em\"><defs /><svg width=\"100%\" x=\"0\" y=\"0em\"><defs /><text text-anchor=\"middle\" x=\"50%\" y=\"1em\">Pierre</text></svg></svg><line stroke=\"black\" x1=\"50%\" x2=\"50%\" y1=\"1.2em\" y2=\"3em\" /></svg><line stroke=\"black\" x1=\"50%\" x2=\"25%\" y1=\"1.2em\" y2=\"3em\" /><svg width=\"50%\" x=\"50%\" y=\"3em\"><defs /><svg width=\"100%\" x=\"0\" y=\"0em\"><defs /><text text-anchor=\"middle\" x=\"50%\" y=\"1em\">NNP</text></svg><svg width=\"100%\" x=\"0%\" y=\"3em\"><defs /><svg width=\"100%\" x=\"0\" y=\"0em\"><defs /><text text-anchor=\"middle\" x=\"50%\" y=\"1em\">Vinken</text></svg></svg><line stroke=\"black\" x1=\"50%\" x2=\"50%\" y1=\"1.2em\" y2=\"3em\" /></svg><line stroke=\"black\" x1=\"50%\" x2=\"75%\" y1=\"1.2em\" y2=\"3em\" /></svg><line stroke=\"black\" x1=\"50%\" x2=\"21.0526%\" y1=\"1.2em\" y2=\"3em\" /><svg width=\"7.89474%\" x=\"42.1053%\" y=\"3em\"><defs /><svg width=\"100%\" x=\"0\" y=\"0em\"><defs /><text text-anchor=\"middle\" x=\"50%\" y=\"1em\">,</text></svg><svg width=\"100%\" x=\"0%\" y=\"3em\"><defs /><svg width=\"100%\" x=\"0\" y=\"0em\"><defs /><text text-anchor=\"middle\" x=\"50%\" y=\"1em\">,</text></svg></svg><line stroke=\"black\" x1=\"50%\" x2=\"50%\" y1=\"1.2em\" y2=\"3em\" /></svg><line stroke=\"black\" x1=\"50%\" x2=\"46.0526%\" y1=\"1.2em\" y2=\"3em\" /><svg width=\"42.1053%\" x=\"50%\" y=\"3em\"><defs /><svg width=\"100%\" x=\"0\" y=\"0em\"><defs /><text text-anchor=\"middle\" x=\"50%\" y=\"1em\">ADJP</text></svg><svg width=\"68.75%\" x=\"0%\" y=\"3em\"><defs /><svg width=\"100%\" x=\"0\" y=\"0em\"><defs /><text text-anchor=\"middle\" x=\"50%\" y=\"1em\">NP</text></svg><svg width=\"36.3636%\" x=\"0%\" y=\"3em\"><defs /><svg width=\"100%\" x=\"0\" y=\"0em\"><defs /><text text-anchor=\"middle\" x=\"50%\" y=\"1em\">CD</text></svg><svg width=\"100%\" x=\"0%\" y=\"3em\"><defs /><svg width=\"100%\" x=\"0\" y=\"0em\"><defs /><text text-anchor=\"middle\" x=\"50%\" y=\"1em\">61</text></svg></svg><line stroke=\"black\" x1=\"50%\" x2=\"50%\" y1=\"1.2em\" y2=\"3em\" /></svg><line stroke=\"black\" x1=\"50%\" x2=\"18.1818%\" y1=\"1.2em\" y2=\"3em\" /><svg width=\"63.6364%\" x=\"36.3636%\" y=\"3em\"><defs /><svg width=\"100%\" x=\"0\" y=\"0em\"><defs /><text text-anchor=\"middle\" x=\"50%\" y=\"1em\">NNS</text></svg><svg width=\"100%\" x=\"0%\" y=\"3em\"><defs /><svg width=\"100%\" x=\"0\" y=\"0em\"><defs /><text text-anchor=\"middle\" x=\"50%\" y=\"1em\">years</text></svg></svg><line stroke=\"black\" x1=\"50%\" x2=\"50%\" y1=\"1.2em\" y2=\"3em\" /></svg><line stroke=\"black\" x1=\"50%\" x2=\"68.1818%\" y1=\"1.2em\" y2=\"3em\" /></svg><line stroke=\"black\" x1=\"50%\" x2=\"34.375%\" y1=\"1.2em\" y2=\"3em\" /><svg width=\"31.25%\" x=\"68.75%\" y=\"3em\"><defs /><svg width=\"100%\" x=\"0\" y=\"0em\"><defs /><text text-anchor=\"middle\" x=\"50%\" y=\"1em\">JJ</text></svg><svg width=\"100%\" x=\"0%\" y=\"3em\"><defs /><svg width=\"100%\" x=\"0\" y=\"0em\"><defs /><text text-anchor=\"middle\" x=\"50%\" y=\"1em\">old</text></svg></svg><line stroke=\"black\" x1=\"50%\" x2=\"50%\" y1=\"1.2em\" y2=\"3em\" /></svg><line stroke=\"black\" x1=\"50%\" x2=\"84.375%\" y1=\"1.2em\" y2=\"3em\" /></svg><line stroke=\"black\" x1=\"50%\" x2=\"71.0526%\" y1=\"1.2em\" y2=\"3em\" /><svg width=\"7.89474%\" x=\"92.1053%\" y=\"3em\"><defs /><svg width=\"100%\" x=\"0\" y=\"0em\"><defs /><text text-anchor=\"middle\" x=\"50%\" y=\"1em\">,</text></svg><svg width=\"100%\" x=\"0%\" y=\"3em\"><defs /><svg width=\"100%\" x=\"0\" y=\"0em\"><defs /><text text-anchor=\"middle\" x=\"50%\" y=\"1em\">,</text></svg></svg><line stroke=\"black\" x1=\"50%\" x2=\"50%\" y1=\"1.2em\" y2=\"3em\" /></svg><line stroke=\"black\" x1=\"50%\" x2=\"96.0526%\" y1=\"1.2em\" y2=\"3em\" /></svg><line stroke=\"black\" x1=\"50%\" x2=\"17.757%\" y1=\"1.2em\" y2=\"3em\" /><svg width=\"61.6822%\" x=\"35.514%\" y=\"3em\"><defs /><svg width=\"100%\" x=\"0\" y=\"0em\"><defs /><text text-anchor=\"middle\" x=\"50%\" y=\"1em\">VP</text></svg><svg width=\"9.09091%\" x=\"0%\" y=\"3em\"><defs /><svg width=\"100%\" x=\"0\" y=\"0em\"><defs /><text text-anchor=\"middle\" x=\"50%\" y=\"1em\">MD</text></svg><svg width=\"100%\" x=\"0%\" y=\"3em\"><defs /><svg width=\"100%\" x=\"0\" y=\"0em\"><defs /><text text-anchor=\"middle\" x=\"50%\" y=\"1em\">will</text></svg></svg><line stroke=\"black\" x1=\"50%\" x2=\"50%\" y1=\"1.2em\" y2=\"3em\" /></svg><line stroke=\"black\" x1=\"50%\" x2=\"4.54545%\" y1=\"1.2em\" y2=\"3em\" /><svg width=\"90.9091%\" x=\"9.09091%\" y=\"3em\"><defs /><svg width=\"100%\" x=\"0\" y=\"0em\"><defs /><text text-anchor=\"middle\" x=\"50%\" y=\"1em\">VP</text></svg><svg width=\"10%\" x=\"0%\" y=\"3em\"><defs /><svg width=\"100%\" x=\"0\" y=\"0em\"><defs /><text text-anchor=\"middle\" x=\"50%\" y=\"1em\">VB</text></svg><svg width=\"100%\" x=\"0%\" y=\"3em\"><defs /><svg width=\"100%\" x=\"0\" y=\"0em\"><defs /><text text-anchor=\"middle\" x=\"50%\" y=\"1em\">join</text></svg></svg><line stroke=\"black\" x1=\"50%\" x2=\"50%\" y1=\"1.2em\" y2=\"3em\" /></svg><line stroke=\"black\" x1=\"50%\" x2=\"5%\" y1=\"1.2em\" y2=\"3em\" /><svg width=\"20%\" x=\"10%\" y=\"3em\"><defs /><svg width=\"100%\" x=\"0\" y=\"0em\"><defs /><text text-anchor=\"middle\" x=\"50%\" y=\"1em\">NP</text></svg><svg width=\"41.6667%\" x=\"0%\" y=\"3em\"><defs /><svg width=\"100%\" x=\"0\" y=\"0em\"><defs /><text text-anchor=\"middle\" x=\"50%\" y=\"1em\">DT</text></svg><svg width=\"100%\" x=\"0%\" y=\"3em\"><defs /><svg width=\"100%\" x=\"0\" y=\"0em\"><defs /><text text-anchor=\"middle\" x=\"50%\" y=\"1em\">the</text></svg></svg><line stroke=\"black\" x1=\"50%\" x2=\"50%\" y1=\"1.2em\" y2=\"3em\" /></svg><line stroke=\"black\" x1=\"50%\" x2=\"20.8333%\" y1=\"1.2em\" y2=\"3em\" /><svg width=\"58.3333%\" x=\"41.6667%\" y=\"3em\"><defs /><svg width=\"100%\" x=\"0\" y=\"0em\"><defs /><text text-anchor=\"middle\" x=\"50%\" y=\"1em\">NN</text></svg><svg width=\"100%\" x=\"0%\" y=\"3em\"><defs /><svg width=\"100%\" x=\"0\" y=\"0em\"><defs /><text text-anchor=\"middle\" x=\"50%\" y=\"1em\">board</text></svg></svg><line stroke=\"black\" x1=\"50%\" x2=\"50%\" y1=\"1.2em\" y2=\"3em\" /></svg><line stroke=\"black\" x1=\"50%\" x2=\"70.8333%\" y1=\"1.2em\" y2=\"3em\" /></svg><line stroke=\"black\" x1=\"50%\" x2=\"20%\" y1=\"1.2em\" y2=\"3em\" /><svg width=\"53.3333%\" x=\"30%\" y=\"3em\"><defs /><svg width=\"100%\" x=\"0\" y=\"0em\"><defs /><text text-anchor=\"middle\" x=\"50%\" y=\"1em\">PP-CLR</text></svg><svg width=\"12.5%\" x=\"0%\" y=\"3em\"><defs /><svg width=\"100%\" x=\"0\" y=\"0em\"><defs /><text text-anchor=\"middle\" x=\"50%\" y=\"1em\">IN</text></svg><svg width=\"100%\" x=\"0%\" y=\"3em\"><defs /><svg width=\"100%\" x=\"0\" y=\"0em\"><defs /><text text-anchor=\"middle\" x=\"50%\" y=\"1em\">as</text></svg></svg><line stroke=\"black\" x1=\"50%\" x2=\"50%\" y1=\"1.2em\" y2=\"3em\" /></svg><line stroke=\"black\" x1=\"50%\" x2=\"6.25%\" y1=\"1.2em\" y2=\"3em\" /><svg width=\"87.5%\" x=\"12.5%\" y=\"3em\"><defs /><svg width=\"100%\" x=\"0\" y=\"0em\"><defs /><text text-anchor=\"middle\" x=\"50%\" y=\"1em\">NP</text></svg><svg width=\"14.2857%\" x=\"0%\" y=\"3em\"><defs /><svg width=\"100%\" x=\"0\" y=\"0em\"><defs /><text text-anchor=\"middle\" x=\"50%\" y=\"1em\">DT</text></svg><svg width=\"100%\" x=\"0%\" y=\"3em\"><defs /><svg width=\"100%\" x=\"0\" y=\"0em\"><defs /><text text-anchor=\"middle\" x=\"50%\" y=\"1em\">a</text></svg></svg><line stroke=\"black\" x1=\"50%\" x2=\"50%\" y1=\"1.2em\" y2=\"3em\" /></svg><line stroke=\"black\" x1=\"50%\" x2=\"7.14286%\" y1=\"1.2em\" y2=\"3em\" /><svg width=\"50%\" x=\"14.2857%\" y=\"3em\"><defs /><svg width=\"100%\" x=\"0\" y=\"0em\"><defs /><text text-anchor=\"middle\" x=\"50%\" y=\"1em\">JJ</text></svg><svg width=\"100%\" x=\"0%\" y=\"3em\"><defs /><svg width=\"100%\" x=\"0\" y=\"0em\"><defs /><text text-anchor=\"middle\" x=\"50%\" y=\"1em\">nonexecutive</text></svg></svg><line stroke=\"black\" x1=\"50%\" x2=\"50%\" y1=\"1.2em\" y2=\"3em\" /></svg><line stroke=\"black\" x1=\"50%\" x2=\"39.2857%\" y1=\"1.2em\" y2=\"3em\" /><svg width=\"35.7143%\" x=\"64.2857%\" y=\"3em\"><defs /><svg width=\"100%\" x=\"0\" y=\"0em\"><defs /><text text-anchor=\"middle\" x=\"50%\" y=\"1em\">NN</text></svg><svg width=\"100%\" x=\"0%\" y=\"3em\"><defs /><svg width=\"100%\" x=\"0\" y=\"0em\"><defs /><text text-anchor=\"middle\" x=\"50%\" y=\"1em\">director</text></svg></svg><line stroke=\"black\" x1=\"50%\" x2=\"50%\" y1=\"1.2em\" y2=\"3em\" /></svg><line stroke=\"black\" x1=\"50%\" x2=\"82.1429%\" y1=\"1.2em\" y2=\"3em\" /></svg><line stroke=\"black\" x1=\"50%\" x2=\"56.25%\" y1=\"1.2em\" y2=\"3em\" /></svg><line stroke=\"black\" x1=\"50%\" x2=\"56.6667%\" y1=\"1.2em\" y2=\"3em\" /><svg width=\"16.6667%\" x=\"83.3333%\" y=\"3em\"><defs /><svg width=\"100%\" x=\"0\" y=\"0em\"><defs /><text text-anchor=\"middle\" x=\"50%\" y=\"1em\">NP-TMP</text></svg><svg width=\"60%\" x=\"0%\" y=\"3em\"><defs /><svg width=\"100%\" x=\"0\" y=\"0em\"><defs /><text text-anchor=\"middle\" x=\"50%\" y=\"1em\">NNP</text></svg><svg width=\"100%\" x=\"0%\" y=\"3em\"><defs /><svg width=\"100%\" x=\"0\" y=\"0em\"><defs /><text text-anchor=\"middle\" x=\"50%\" y=\"1em\">Nov.</text></svg></svg><line stroke=\"black\" x1=\"50%\" x2=\"50%\" y1=\"1.2em\" y2=\"3em\" /></svg><line stroke=\"black\" x1=\"50%\" x2=\"30%\" y1=\"1.2em\" y2=\"3em\" /><svg width=\"40%\" x=\"60%\" y=\"3em\"><defs /><svg width=\"100%\" x=\"0\" y=\"0em\"><defs /><text text-anchor=\"middle\" x=\"50%\" y=\"1em\">CD</text></svg><svg width=\"100%\" x=\"0%\" y=\"3em\"><defs /><svg width=\"100%\" x=\"0\" y=\"0em\"><defs /><text text-anchor=\"middle\" x=\"50%\" y=\"1em\">29</text></svg></svg><line stroke=\"black\" x1=\"50%\" x2=\"50%\" y1=\"1.2em\" y2=\"3em\" /></svg><line stroke=\"black\" x1=\"50%\" x2=\"80%\" y1=\"1.2em\" y2=\"3em\" /></svg><line stroke=\"black\" x1=\"50%\" x2=\"91.6667%\" y1=\"1.2em\" y2=\"3em\" /></svg><line stroke=\"black\" x1=\"50%\" x2=\"54.5455%\" y1=\"1.2em\" y2=\"3em\" /></svg><line stroke=\"black\" x1=\"50%\" x2=\"66.3551%\" y1=\"1.2em\" y2=\"3em\" /><svg width=\"2.80374%\" x=\"97.1963%\" y=\"3em\"><defs /><svg width=\"100%\" x=\"0\" y=\"0em\"><defs /><text text-anchor=\"middle\" x=\"50%\" y=\"1em\">.</text></svg><svg width=\"100%\" x=\"0%\" y=\"3em\"><defs /><svg width=\"100%\" x=\"0\" y=\"0em\"><defs /><text text-anchor=\"middle\" x=\"50%\" y=\"1em\">.</text></svg></svg><line stroke=\"black\" x1=\"50%\" x2=\"50%\" y1=\"1.2em\" y2=\"3em\" /></svg><line stroke=\"black\" x1=\"50%\" x2=\"98.5981%\" y1=\"1.2em\" y2=\"3em\" /></svg>",
      "text/plain": [
       "Tree('S', [Tree('NP-SBJ', [Tree('NP', [Tree('NNP', ['Pierre']), Tree('NNP', ['Vinken'])]), Tree(',', [',']), Tree('ADJP', [Tree('NP', [Tree('CD', ['61']), Tree('NNS', ['years'])]), Tree('JJ', ['old'])]), Tree(',', [','])]), Tree('VP', [Tree('MD', ['will']), Tree('VP', [Tree('VB', ['join']), Tree('NP', [Tree('DT', ['the']), Tree('NN', ['board'])]), Tree('PP-CLR', [Tree('IN', ['as']), Tree('NP', [Tree('DT', ['a']), Tree('JJ', ['nonexecutive']), Tree('NN', ['director'])])]), Tree('NP-TMP', [Tree('NNP', ['Nov.']), Tree('CD', ['29'])])])]), Tree('.', ['.'])])"
      ]
     },
     "execution_count": 24,
     "metadata": {},
     "output_type": "execute_result"
    }
   ],
   "source": [
    "nltk.corpus.treebank.parsed_sents()[0]"
   ]
  },
  {
   "cell_type": "code",
   "execution_count": 28,
   "metadata": {},
   "outputs": [
    {
     "data": {
      "image/svg+xml": "<svg baseProfile=\"full\" height=\"168px\" preserveAspectRatio=\"xMidYMid meet\" style=\"font-family: times, serif; font-weight:normal; font-style: normal; font-size: 16px;\" version=\"1.1\" viewBox=\"0,0,136.0,168.0\" width=\"136px\" xmlns=\"http://www.w3.org/2000/svg\" xmlns:ev=\"http://www.w3.org/2001/xml-events\" xmlns:xlink=\"http://www.w3.org/1999/xlink\"><defs /><svg width=\"100%\" x=\"0\" y=\"0em\"><defs /><text text-anchor=\"middle\" x=\"50%\" y=\"1em\">VP</text></svg><svg width=\"35.2941%\" x=\"0%\" y=\"3em\"><defs /><svg width=\"100%\" x=\"0\" y=\"0em\"><defs /><text text-anchor=\"middle\" x=\"50%\" y=\"1em\">Dbab</text></svg><svg width=\"100%\" x=\"0%\" y=\"3em\"><defs /><svg width=\"100%\" x=\"0\" y=\"0em\"><defs /><text text-anchor=\"middle\" x=\"50%\" y=\"1em\">不用</text></svg></svg><line stroke=\"black\" x1=\"50%\" x2=\"50%\" y1=\"1.2em\" y2=\"3em\" /></svg><line stroke=\"black\" x1=\"50%\" x2=\"17.6471%\" y1=\"1.2em\" y2=\"3em\" /><svg width=\"29.4118%\" x=\"35.2941%\" y=\"3em\"><defs /><svg width=\"100%\" x=\"0\" y=\"0em\"><defs /><text text-anchor=\"middle\" x=\"50%\" y=\"1em\">VJ2</text></svg><svg width=\"100%\" x=\"0%\" y=\"3em\"><defs /><svg width=\"100%\" x=\"0\" y=\"0em\"><defs /><text text-anchor=\"middle\" x=\"50%\" y=\"1em\">謝</text></svg></svg><line stroke=\"black\" x1=\"50%\" x2=\"50%\" y1=\"1.2em\" y2=\"3em\" /></svg><line stroke=\"black\" x1=\"50%\" x2=\"50%\" y1=\"1.2em\" y2=\"3em\" /><svg width=\"35.2941%\" x=\"64.7059%\" y=\"3em\"><defs /><svg width=\"100%\" x=\"0\" y=\"0em\"><defs /><text text-anchor=\"middle\" x=\"50%\" y=\"1em\">NP</text></svg><svg width=\"100%\" x=\"0%\" y=\"3em\"><defs /><svg width=\"100%\" x=\"0\" y=\"0em\"><defs /><text text-anchor=\"middle\" x=\"50%\" y=\"1em\">Nhaa</text></svg><svg width=\"100%\" x=\"0%\" y=\"3em\"><defs /><svg width=\"100%\" x=\"0\" y=\"0em\"><defs /><text text-anchor=\"middle\" x=\"50%\" y=\"1em\">我</text></svg></svg><line stroke=\"black\" x1=\"50%\" x2=\"50%\" y1=\"1.2em\" y2=\"3em\" /></svg><line stroke=\"black\" x1=\"50%\" x2=\"50%\" y1=\"1.2em\" y2=\"3em\" /></svg><line stroke=\"black\" x1=\"50%\" x2=\"82.3529%\" y1=\"1.2em\" y2=\"3em\" /></svg>",
      "text/plain": [
       "Tree('VP', [Tree('Dbab', ['不用']), Tree('VJ2', ['謝']), Tree('NP', [Tree('Nhaa', ['我'])])])"
      ]
     },
     "execution_count": 28,
     "metadata": {},
     "output_type": "execute_result"
    }
   ],
   "source": [
    "nltk.corpus.sinica_treebank.parsed_sents()[50]"
   ]
  },
  {
   "cell_type": "code",
   "execution_count": 32,
   "metadata": {},
   "outputs": [
    {
     "data": {
      "image/svg+xml": "<?xml version=\"1.0\" encoding=\"UTF-8\" standalone=\"no\"?>\n<!DOCTYPE svg PUBLIC \"-//W3C//DTD SVG 1.1//EN\"\n \"http://www.w3.org/Graphics/SVG/1.1/DTD/svg11.dtd\">\n<!-- Generated by graphviz version 2.43.0 (0)\n -->\n<!-- Title: G Pages: 1 -->\n<svg width=\"548pt\" height=\"653pt\"\n viewBox=\"0.00 0.00 548.00 653.00\" xmlns=\"http://www.w3.org/2000/svg\" xmlns:xlink=\"http://www.w3.org/1999/xlink\">\n<g id=\"graph0\" class=\"graph\" transform=\"scale(1 1) rotate(0) translate(4 649)\">\n<title>G</title>\n<polygon fill=\"white\" stroke=\"transparent\" points=\"-4,4 -4,-649 544,-649 544,4 -4,4\"/>\n<!-- 0 -->\n<g id=\"node1\" class=\"node\">\n<title>0</title>\n<text text-anchor=\"middle\" x=\"234.5\" y=\"-623.3\" font-family=\"Times,serif\" font-size=\"14.00\">0 (None)</text>\n</g>\n<!-- 6 -->\n<g id=\"node2\" class=\"node\">\n<title>6</title>\n<text text-anchor=\"middle\" x=\"234.5\" y=\"-536.3\" font-family=\"Times,serif\" font-size=\"14.00\">6 (valoran)</text>\n</g>\n<!-- 0&#45;&gt;6 -->\n<g id=\"edge1\" class=\"edge\">\n<title>0&#45;&gt;6</title>\n<path fill=\"none\" stroke=\"black\" d=\"M234.5,-608.8C234.5,-597.16 234.5,-581.55 234.5,-568.24\"/>\n<polygon fill=\"black\" stroke=\"black\" points=\"238,-568.18 234.5,-558.18 231,-568.18 238,-568.18\"/>\n<text text-anchor=\"middle\" x=\"256\" y=\"-579.8\" font-family=\"Times,serif\" font-size=\"14.00\">ROOT</text>\n</g>\n<!-- 2 -->\n<g id=\"node4\" class=\"node\">\n<title>2</title>\n<text text-anchor=\"middle\" x=\"86.5\" y=\"-449.3\" font-family=\"Times,serif\" font-size=\"14.00\">2 (reservas)</text>\n</g>\n<!-- 6&#45;&gt;2 -->\n<g id=\"edge5\" class=\"edge\">\n<title>6&#45;&gt;2</title>\n<path fill=\"none\" stroke=\"black\" d=\"M200.5,-521.84C189.85,-516.3 178.11,-510.03 167.5,-504 152.42,-495.42 136.08,-485.47 122.06,-476.71\"/>\n<polygon fill=\"black\" stroke=\"black\" points=\"123.54,-473.51 113.21,-471.16 119.82,-479.44 123.54,-473.51\"/>\n<text text-anchor=\"middle\" x=\"181\" y=\"-492.8\" font-family=\"Times,serif\" font-size=\"14.00\">SUJ</text>\n</g>\n<!-- 5 -->\n<g id=\"node7\" class=\"node\">\n<title>5</title>\n<text text-anchor=\"middle\" x=\"183.5\" y=\"-449.3\" font-family=\"Times,serif\" font-size=\"14.00\">5 (se)</text>\n</g>\n<!-- 6&#45;&gt;5 -->\n<g id=\"edge6\" class=\"edge\">\n<title>6&#45;&gt;5</title>\n<path fill=\"none\" stroke=\"black\" d=\"M219.38,-521.81C214.93,-516.33 210.26,-510.09 206.5,-504 201.98,-496.68 197.8,-488.33 194.27,-480.57\"/>\n<polygon fill=\"black\" stroke=\"black\" points=\"197.39,-478.96 190.18,-471.19 190.97,-481.76 197.39,-478.96\"/>\n<text text-anchor=\"middle\" x=\"225\" y=\"-492.8\" font-family=\"Times,serif\" font-size=\"14.00\">PASS</text>\n</g>\n<!-- 7 -->\n<g id=\"node8\" class=\"node\">\n<title>7</title>\n<text text-anchor=\"middle\" x=\"286.5\" y=\"-449.3\" font-family=\"Times,serif\" font-size=\"14.00\">7 (en_base_a)</text>\n</g>\n<!-- 6&#45;&gt;7 -->\n<g id=\"edge7\" class=\"edge\">\n<title>6&#45;&gt;7</title>\n<path fill=\"none\" stroke=\"black\" d=\"M245.02,-521.8C252.35,-509.82 262.26,-493.62 270.56,-480.06\"/>\n<polygon fill=\"black\" stroke=\"black\" points=\"273.76,-481.53 275.99,-471.18 267.79,-477.88 273.76,-481.53\"/>\n<text text-anchor=\"middle\" x=\"275.5\" y=\"-492.8\" font-family=\"Times,serif\" font-size=\"14.00\">CC</text>\n</g>\n<!-- 16 -->\n<g id=\"node9\" class=\"node\">\n<title>16</title>\n<text text-anchor=\"middle\" x=\"388.5\" y=\"-449.3\" font-family=\"Times,serif\" font-size=\"14.00\">16 (.)</text>\n</g>\n<!-- 6&#45;&gt;16 -->\n<g id=\"edge8\" class=\"edge\">\n<title>6&#45;&gt;16</title>\n<path fill=\"none\" stroke=\"black\" d=\"M265.66,-521.8C290.82,-507.91 326.24,-488.36 352.59,-473.82\"/>\n<polygon fill=\"black\" stroke=\"black\" points=\"354.44,-476.8 361.5,-468.9 351.05,-470.67 354.44,-476.8\"/>\n<text text-anchor=\"middle\" x=\"343.5\" y=\"-492.8\" font-family=\"Times,serif\" font-size=\"14.00\">PUNC</text>\n</g>\n<!-- 1 -->\n<g id=\"node3\" class=\"node\">\n<title>1</title>\n<text text-anchor=\"middle\" x=\"32.5\" y=\"-362.3\" font-family=\"Times,serif\" font-size=\"14.00\">1 (Las)</text>\n</g>\n<!-- 2&#45;&gt;1 -->\n<g id=\"edge2\" class=\"edge\">\n<title>2&#45;&gt;1</title>\n<path fill=\"none\" stroke=\"black\" d=\"M75.57,-434.8C67.89,-422.7 57.47,-406.3 48.81,-392.67\"/>\n<polygon fill=\"black\" stroke=\"black\" points=\"51.73,-390.74 43.41,-384.18 45.82,-394.49 51.73,-390.74\"/>\n<text text-anchor=\"middle\" x=\"67\" y=\"-405.8\" font-family=\"Times,serif\" font-size=\"14.00\">_</text>\n</g>\n<!-- 3 -->\n<g id=\"node5\" class=\"node\">\n<title>3</title>\n<text text-anchor=\"middle\" x=\"112.5\" y=\"-362.3\" font-family=\"Times,serif\" font-size=\"14.00\">3 (en)</text>\n</g>\n<!-- 2&#45;&gt;3 -->\n<g id=\"edge3\" class=\"edge\">\n<title>2&#45;&gt;3</title>\n<path fill=\"none\" stroke=\"black\" d=\"M91.76,-434.8C95.36,-423.05 100.19,-407.24 104.29,-393.84\"/>\n<polygon fill=\"black\" stroke=\"black\" points=\"107.67,-394.76 107.25,-384.18 100.97,-392.71 107.67,-394.76\"/>\n<text text-anchor=\"middle\" x=\"105\" y=\"-405.8\" font-family=\"Times,serif\" font-size=\"14.00\">_</text>\n</g>\n<!-- 4 -->\n<g id=\"node6\" class=\"node\">\n<title>4</title>\n<text text-anchor=\"middle\" x=\"112.5\" y=\"-275.3\" font-family=\"Times,serif\" font-size=\"14.00\">4 (oro)</text>\n</g>\n<!-- 3&#45;&gt;4 -->\n<g id=\"edge4\" class=\"edge\">\n<title>3&#45;&gt;4</title>\n<path fill=\"none\" stroke=\"black\" d=\"M112.5,-347.8C112.5,-336.16 112.5,-320.55 112.5,-307.24\"/>\n<polygon fill=\"black\" stroke=\"black\" points=\"116,-307.18 112.5,-297.18 109,-307.18 116,-307.18\"/>\n<text text-anchor=\"middle\" x=\"116\" y=\"-318.8\" font-family=\"Times,serif\" font-size=\"14.00\">_</text>\n</g>\n<!-- 8 -->\n<g id=\"node10\" class=\"node\">\n<title>8</title>\n<text text-anchor=\"middle\" x=\"286.5\" y=\"-362.3\" font-family=\"Times,serif\" font-size=\"14.00\">8 (300_dólares)</text>\n</g>\n<!-- 7&#45;&gt;8 -->\n<g id=\"edge9\" class=\"edge\">\n<title>7&#45;&gt;8</title>\n<path fill=\"none\" stroke=\"black\" d=\"M286.5,-434.8C286.5,-423.16 286.5,-407.55 286.5,-394.24\"/>\n<polygon fill=\"black\" stroke=\"black\" points=\"290,-394.18 286.5,-384.18 283,-394.18 290,-394.18\"/>\n<text text-anchor=\"middle\" x=\"290\" y=\"-405.8\" font-family=\"Times,serif\" font-size=\"14.00\">_</text>\n</g>\n<!-- 9 -->\n<g id=\"node11\" class=\"node\">\n<title>9</title>\n<text text-anchor=\"middle\" x=\"277.5\" y=\"-275.3\" font-family=\"Times,serif\" font-size=\"14.00\">9 (estadounidenses)</text>\n</g>\n<!-- 8&#45;&gt;9 -->\n<g id=\"edge10\" class=\"edge\">\n<title>8&#45;&gt;9</title>\n<path fill=\"none\" stroke=\"black\" d=\"M284.68,-347.8C283.45,-336.16 281.79,-320.55 280.38,-307.24\"/>\n<polygon fill=\"black\" stroke=\"black\" points=\"283.85,-306.75 279.32,-297.18 276.89,-307.49 283.85,-306.75\"/>\n<text text-anchor=\"middle\" x=\"287\" y=\"-318.8\" font-family=\"Times,serif\" font-size=\"14.00\">_</text>\n</g>\n<!-- 10 -->\n<g id=\"node12\" class=\"node\">\n<title>10</title>\n<text text-anchor=\"middle\" x=\"412.5\" y=\"-275.3\" font-family=\"Times,serif\" font-size=\"14.00\">10 (por)</text>\n</g>\n<!-- 8&#45;&gt;10 -->\n<g id=\"edge11\" class=\"edge\">\n<title>8&#45;&gt;10</title>\n<path fill=\"none\" stroke=\"black\" d=\"M312,-347.8C331.21,-334.84 357.74,-316.94 378.72,-302.79\"/>\n<polygon fill=\"black\" stroke=\"black\" points=\"380.71,-305.67 387.04,-297.18 376.79,-299.87 380.71,-305.67\"/>\n<text text-anchor=\"middle\" x=\"361\" y=\"-318.8\" font-family=\"Times,serif\" font-size=\"14.00\">_</text>\n</g>\n<!-- 12 -->\n<g id=\"node13\" class=\"node\">\n<title>12</title>\n<text text-anchor=\"middle\" x=\"412.5\" y=\"-188.3\" font-family=\"Times,serif\" font-size=\"14.00\">12 (onza)</text>\n</g>\n<!-- 10&#45;&gt;12 -->\n<g id=\"edge12\" class=\"edge\">\n<title>10&#45;&gt;12</title>\n<path fill=\"none\" stroke=\"black\" d=\"M412.5,-260.8C412.5,-249.16 412.5,-233.55 412.5,-220.24\"/>\n<polygon fill=\"black\" stroke=\"black\" points=\"416,-220.18 412.5,-210.18 409,-220.18 416,-220.18\"/>\n<text text-anchor=\"middle\" x=\"416\" y=\"-231.8\" font-family=\"Times,serif\" font-size=\"14.00\">_</text>\n</g>\n<!-- 11 -->\n<g id=\"node14\" class=\"node\">\n<title>11</title>\n<text text-anchor=\"middle\" x=\"313.5\" y=\"-101.3\" font-family=\"Times,serif\" font-size=\"14.00\">11 (cada)</text>\n</g>\n<!-- 12&#45;&gt;11 -->\n<g id=\"edge13\" class=\"edge\">\n<title>12&#45;&gt;11</title>\n<path fill=\"none\" stroke=\"black\" d=\"M392.47,-173.8C377.71,-161.13 357.45,-143.73 341.15,-129.74\"/>\n<polygon fill=\"black\" stroke=\"black\" points=\"343.37,-127.03 333.5,-123.18 338.81,-132.35 343.37,-127.03\"/>\n<text text-anchor=\"middle\" x=\"373\" y=\"-144.8\" font-family=\"Times,serif\" font-size=\"14.00\">_</text>\n</g>\n<!-- 13 -->\n<g id=\"node15\" class=\"node\">\n<title>13</title>\n<text text-anchor=\"middle\" x=\"412.5\" y=\"-101.3\" font-family=\"Times,serif\" font-size=\"14.00\">13 (troy)</text>\n</g>\n<!-- 12&#45;&gt;13 -->\n<g id=\"edge14\" class=\"edge\">\n<title>12&#45;&gt;13</title>\n<path fill=\"none\" stroke=\"black\" d=\"M412.5,-173.8C412.5,-162.16 412.5,-146.55 412.5,-133.24\"/>\n<polygon fill=\"black\" stroke=\"black\" points=\"416,-133.18 412.5,-123.18 409,-133.18 416,-133.18\"/>\n<text text-anchor=\"middle\" x=\"416\" y=\"-144.8\" font-family=\"Times,serif\" font-size=\"14.00\">_</text>\n</g>\n<!-- 14 -->\n<g id=\"node16\" class=\"node\">\n<title>14</title>\n<text text-anchor=\"middle\" x=\"503.5\" y=\"-101.3\" font-family=\"Times,serif\" font-size=\"14.00\">14 (de)</text>\n</g>\n<!-- 12&#45;&gt;14 -->\n<g id=\"edge15\" class=\"edge\">\n<title>12&#45;&gt;14</title>\n<path fill=\"none\" stroke=\"black\" d=\"M430.92,-173.8C444.36,-161.24 462.76,-144.05 477.68,-130.12\"/>\n<polygon fill=\"black\" stroke=\"black\" points=\"480.19,-132.56 485.11,-123.18 475.42,-127.44 480.19,-132.56\"/>\n<text text-anchor=\"middle\" x=\"467\" y=\"-144.8\" font-family=\"Times,serif\" font-size=\"14.00\">_</text>\n</g>\n<!-- 15 -->\n<g id=\"node17\" class=\"node\">\n<title>15</title>\n<text text-anchor=\"middle\" x=\"503.5\" y=\"-14.3\" font-family=\"Times,serif\" font-size=\"14.00\">15 (oro)</text>\n</g>\n<!-- 14&#45;&gt;15 -->\n<g id=\"edge16\" class=\"edge\">\n<title>14&#45;&gt;15</title>\n<path fill=\"none\" stroke=\"black\" d=\"M503.5,-86.8C503.5,-75.16 503.5,-59.55 503.5,-46.24\"/>\n<polygon fill=\"black\" stroke=\"black\" points=\"507,-46.18 503.5,-36.18 500,-46.18 507,-46.18\"/>\n<text text-anchor=\"middle\" x=\"507\" y=\"-57.8\" font-family=\"Times,serif\" font-size=\"14.00\">_</text>\n</g>\n</g>\n</svg>\n",
      "text/plain": [
       "<DependencyGraph with 17 nodes>"
      ]
     },
     "execution_count": 32,
     "metadata": {},
     "output_type": "execute_result"
    }
   ],
   "source": [
    "nltk.corpus.conll2007.parsed_sents()[3]"
   ]
  }
 ],
 "metadata": {
  "kernelspec": {
   "display_name": "venv",
   "language": "python",
   "name": "python3"
  },
  "language_info": {
   "codemirror_mode": {
    "name": "ipython",
    "version": 3
   },
   "file_extension": ".py",
   "mimetype": "text/x-python",
   "name": "python",
   "nbconvert_exporter": "python",
   "pygments_lexer": "ipython3",
   "version": "3.8.10 (default, Mar 15 2022, 12:22:08) \n[GCC 9.4.0]"
  },
  "orig_nbformat": 4,
  "vscode": {
   "interpreter": {
    "hash": "fa7894b94478b0ba133e0168dfdb5e1a4cbca7d5f7ae4669a4b55fe8c08ed3e7"
   }
  }
 },
 "nbformat": 4,
 "nbformat_minor": 2
}
